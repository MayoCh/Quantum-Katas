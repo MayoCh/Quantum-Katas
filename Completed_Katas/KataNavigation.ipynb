{
 "cells": [
  {
   "cell_type": "markdown",
   "metadata": {},
   "source": [
    "## COMPLETED KATAS\n",
    "\n",
    "#### Quantum Computing Concepts: Qubits and Gates\n",
    "\n",
    "* **[Complex arithmetic (tutorial)](./ComplexArithmetic/ComplexArithmetic.ipynb)**.\n",
    "  Learn about complex numbers and the mathematics required to work with quantum computing.\n",
    "* **[Linear algebra (tutorial)](./LinearAlgebra/LinearAlgebra.ipynb)**.\n",
    "  Learn about vectors and matrices used to represent quantum states and quantum operations.\n",
    "* **[The qubit (tutorial)](./Qubit/Qubit.ipynb)**.\n",
    "  Learn what a qubit is.\n",
    "* **[Single-qubit gates (tutorial)](./SingleQubitGates/SingleQubitGates.ipynb)**.\n",
    "  Learn what a quantum gate is and about the most common single-qubit gates.\n",
    "* **[Basic quantum computing gates](./BasicGates/BasicGates.ipynb)**.\n",
    "  Learn to apply the most common gates used in quantum computing.\n",
    "* **[Multi-qubit systems (tutorial)](./MultiQubitSystems/MultiQubitSystems.ipynb)**.\n",
    "  Learn to represent multi-qubit systems.\n",
    "* **[Multi-qubit gates (tutorial)](./MultiQubitGates/MultiQubitGates.ipynb)**.\n",
    "  Learn about the most common multi-qubit gates.\n",
    "* **[Superposition](./Superposition/Superposition.ipynb)**.\n",
    "  Learn to prepare superposition states.\n",
    "\n",
    "#### Quantum Computing Concepts: Measurements\n",
    "\n",
    "* **[Measurements](./Measurements/Measurements.ipynb)**.\n",
    "  Learn to distinguish quantum states using measurements.\n",
    "* **[Joint measurements](./JointMeasurements/JointMeasurements.ipynb)**\\*.\n",
    "  Learn about using joint (parity) measurements to distinguish quantum states and to perform state transformations.\n",
    "\n",
    "#### Simple Algorithms\n",
    "\n",
    "* **[Teleportation](./Teleportation/Teleportation.ipynb)**. \n",
    "  Implement standard teleportation protocol and its variations.\n",
    "* **[Superdense coding](./SuperdenseCoding/SuperdenseCoding.ipynb)**. \n",
    "  Implement the superdense coding protocol.\n",
    "\n",
    "#### Quantum Oracles and Simple Oracle Algorithms\n",
    "\n",
    "* **[Exploring Deutsch–Jozsa algorithm (tutorial)](./tutorials/ExploringDeutschJozsaAlgorithm/DeutschJozsaAlgorithmTutorial.ipynb)**.\n",
    "  Learn to implement classical functions and equivalent quantum oracles, \n",
    "  and compare the quantum solution to the Deutsch–Jozsa problem to a classical one.\n",
    "\n",
    "#### Grover's search algorithm\n",
    "\n",
    "* **[Implementing Grover's algorithm](./GroversAlgorithm/GroversAlgorithm.ipynb)**. \n",
    "  Learn about Grover's search algorithm and how to write quantum oracles to use with it.\n",
    "* **[Exploring Grover's search algorithm (tutorial)](./tutorials/ExploringGroversAlgorithm/ExploringGroversAlgorithmTutorial.ipynb)**.\n",
    "  Learn more about Grover's search algorithm, picking up where the [Grover's algorithm kata](./GroversAlgorithm/GroversAlgorithm.ipynb) left off.\n",
    "\n",
    "#### Miscellaneous\n",
    "\n",
    "* **[BB84 protocol](./KeyDistribution_BB84/KeyDistribution_BB84.ipynb)**.\n",
    "  Implement the BB84 key distribution algorithm.\n",
    "\n",
    "For a full list of Quantum Katas available as Q# projects instead of Jupyter Notebooks, see the [QuantumKatas repository](https://github.com/Microsoft/QuantumKatas#learning-path)."
   ]
  },
  {
   "cell_type": "code",
   "execution_count": null,
   "metadata": {},
   "outputs": [],
   "source": []
  }
 ],
 "metadata": {
  "kernelspec": {
   "display_name": "Q#",
   "language": "qsharp",
   "name": "iqsharp"
  },
  "language_info": {
   "file_extension": ".qs",
   "mimetype": "text/x-qsharp",
   "name": "qsharp",
   "version": "0.12"
  }
 },
 "nbformat": 4,
 "nbformat_minor": 2
}
